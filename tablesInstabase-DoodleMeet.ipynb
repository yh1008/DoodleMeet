{
 "cells": [
  {
   "cell_type": "code",
   "execution_count": 2,
   "metadata": {
    "collapsed": true
   },
   "outputs": [],
   "source": [
    "__author__=\"Emily Hua yh2901\"\n",
    "__author__=\"Dhruv Shekhawa ds3512\""
   ]
  },
  {
   "cell_type": "code",
   "execution_count": 4,
   "metadata": {
    "collapsed": false,
    "scrolled": true
   },
   "outputs": [
    {
     "ename": "NameError",
     "evalue": "name 'ib' is not defined",
     "output_type": "error",
     "traceback": [
      "\u001b[0;31m---------------------------------------------------------------------------\u001b[0m",
      "\u001b[0;31mNameError\u001b[0m                                 Traceback (most recent call last)",
      "\u001b[0;32m<ipython-input-4-42c70b8f84cf>\u001b[0m in \u001b[0;36m<module>\u001b[0;34m()\u001b[0m\n\u001b[0;32m----> 1\u001b[0;31m \u001b[0mib\u001b[0m\u001b[0;34m.\u001b[0m\u001b[0mconnect_db\u001b[0m\u001b[0;34m(\u001b[0m\u001b[0;34m'https://www.instabase.com/yh2901/public/databases/DoodleMeet'\u001b[0m\u001b[0;34m)\u001b[0m\u001b[0;34m\u001b[0m\u001b[0m\n\u001b[0m",
      "\u001b[0;31mNameError\u001b[0m: name 'ib' is not defined"
     ]
    }
   ],
   "source": [
    "ib.connect_db('ib://name/db')"
   ]
  },
  {
   "cell_type": "code",
   "execution_count": 1,
   "metadata": {
    "collapsed": false
   },
   "outputs": [
    {
     "name": "stderr",
     "output_type": "stream",
     "text": [
      "ERROR:root:Cell magic `%%sql` not found.\n"
     ]
    }
   ],
   "source": [
    "%%sql\n",
    "\n",
    "CREATE TABLE users(\n",
    "    uid int primary key,\n",
    "    firstname text,\n",
    "    lastname text,\n",
    "    fund numeric CHECK (fund > 0) ,\n",
    "    gender text,\n",
    "    age int\n",
    ");"
   ]
  },
  {
   "cell_type": "markdown",
   "metadata": {},
   "source": [
    "loading data into users:\n",
    "\n",
    "INSERT INTO users (uid, firstname, lastname, fund, gender, age)\n",
    "VALUES\n",
    "(2, 'Ivy', 'Chen', 100, 'female', 23),\n",
    "(3, 'Vivian', 'Peng', 150, 'female', 24),\n",
    "(4, 'Ana', 'Stoica', 80, 'female', 23),\n",
    "(5, 'Pri', 'Bengani', 70, 'female', 23),\n",
    "(6, 'zhi', 'Zheng', 50, 'male', 22),\n",
    "(7, 'Pao', 'Pao', 100, 'female', 23),\n",
    "(8, 'Dhruv', 'Shekhawat', 100, 'male', 22),\n",
    "(9, 'Yuntong', 'Wu', 40, 'male', 22),\n",
    "(10, 'Joel', 'Sebold', 200, 'male', 40);\n"
   ]
  },
  {
   "cell_type": "code",
   "execution_count": 40,
   "metadata": {
    "collapsed": false
   },
   "outputs": [
    {
     "data": {
      "text/plain": [
       "{u'status': u'OK'}"
      ]
     },
     "execution_count": 40,
     "metadata": {},
     "output_type": "execute_result"
    }
   ],
   "source": [
    "%%sql\n",
    "\n",
    "CREATE TABLE friendship(\n",
    "    fid int primary key,\n",
    "    usr int,\n",
    "    friend int,\n",
    "    foreign key (usr) references users(uid),\n",
    "    foreign key (friend) references users(uid)\n",
    ")\n",
    "--\"undirected graph!\""
   ]
  },
  {
   "cell_type": "markdown",
   "metadata": {},
   "source": [
    "INSERT INTO friendship (fid, usr, friend) \n",
    "VALUES\n",
    "(1, 1, 2),\n",
    "(2, 1, 3),\n",
    "(3, 1, 4),\n",
    "(4, 1, 5),\n",
    "(5, 1, 6),\n",
    "(6, 1, 7),\n",
    "(7, 1, 8),\n",
    "(8, 1, 9),\n",
    "(9, 1, 10),\n",
    "(10, 3, 2),\n",
    "(11, 4, 5),\n",
    "(12, 3, 7),\n",
    "(13, 2, 7)"
   ]
  },
  {
   "cell_type": "code",
   "execution_count": 60,
   "metadata": {
    "collapsed": false
   },
   "outputs": [
    {
     "data": {
      "text/plain": [
       "{u'status': u'OK'}"
      ]
     },
     "execution_count": 60,
     "metadata": {},
     "output_type": "execute_result"
    }
   ],
   "source": [
    "%%sql \n",
    "\n",
    "CREATE TABLE activitycategory(\n",
    "    aid int,\n",
    "    name text,\n",
    "    primary key(aid)\n",
    ")"
   ]
  },
  {
   "cell_type": "markdown",
   "metadata": {},
   "source": [
    "INSERT INTO activitycategory(aid, name) \n",
    "VALUES\n",
    "(1, 'concerts'),\n",
    "(2, 'dancing'),\n",
    "(3, 'art'),\n",
    "(4, 'museums'),\n",
    "(5, 'card grames'),\n",
    "(6, 'pets'),\n",
    "(7,'fishing'),\n",
    "(8, 'kayaking'),\n",
    "(9, 'cycling'),\n",
    "(10, 'water sports');"
   ]
  },
  {
   "cell_type": "code",
   "execution_count": 65,
   "metadata": {
    "collapsed": false
   },
   "outputs": [
    {
     "name": "stdout",
     "output_type": "stream",
     "text": [
      "Error: ERROR: relation \"activity\" already exists\n"
     ]
    }
   ],
   "source": [
    "%%sql \n",
    "\n",
    "CREATE TABLE activity(\n",
    "    aid int,\n",
    "    aaid int,\n",
    "    name text,\n",
    "    primary key(aid, aaid),\n",
    "    foreign key(aid) references activitycategory(aid)\n",
    ")"
   ]
  },
  {
   "cell_type": "markdown",
   "metadata": {},
   "source": [
    "INSERT INTO activity(aid, aaid, name) \n",
    "VALUES\n",
    "(1, 1, 'soul'),\n",
    "(1, 2, 'rock'),\n",
    "(1, 3, 'blues'),\n",
    "(1, 4, 'classical'),\n",
    "(1, 5, 'folks'),\n",
    "(2, 1, 'ballroom'),\n",
    "(2, 2, 'hiphop'),\n",
    "(3, 1, 'photography'),\n",
    "(3, 2, 'pottery'),\n",
    "(4, 1,'modern art'),\n",
    "(4, 2,'history'),\n",
    "(4, 3,'natural history'),\n",
    "(4, 4,'space'),\n",
    "(7, 1, 'kayak fishing'),\n",
    "(7, 2,'sea fishing'),\n",
    "(7, 3,'rock fishing'),\n",
    "(8, 1,'sea kayaking'),\n",
    "(8, 2,'whitewater kayaking');"
   ]
  },
  {
   "cell_type": "markdown",
   "metadata": {},
   "source": [
    "aaid stores acitivity subcategory "
   ]
  },
  {
   "cell_type": "code",
   "execution_count": 46,
   "metadata": {
    "collapsed": false
   },
   "outputs": [
    {
     "data": {
      "text/plain": [
       "{u'status': u'OK'}"
      ]
     },
     "execution_count": 46,
     "metadata": {},
     "output_type": "execute_result"
    }
   ],
   "source": [
    "%%sql\n",
    "\n",
    "CREATE TABLE interest(\n",
    "    usr int,\n",
    "    activity_category int,\n",
    "    activity_subcategory int, \n",
    "    pid int,\n",
    "    start_time timestamp,\n",
    "    end_time timestamp,\n",
    "    budget int CHECK (budget >= 0),\n",
    "    primary key (usr, activity_category, activity_subcategory, pid, start_time, end_time),\n",
    "    foreign key (usr) references users(uid),\n",
    "    foreign key(pid, activity_category, activity_subcategory) references location(pid, aid, aaid)\n",
    ")"
   ]
  },
  {
   "cell_type": "markdown",
   "metadata": {},
   "source": [
    "INSERT INTO interest (usr, activity_category, activity_subcategory, pid, start_time, end_time, budget) \n",
    "VALUES\n",
    "(1, 4, 1, 1, '2016-11-15 10:00', '2016-11-15 12:00', 30),\n",
    "(2, 4, 1, 1, '2016-11-15 10:00', '2016-11-15 12:00', 20),\n",
    "(3, 4, 1, 1, '2016-11-15 10:00', '2016-11-15 12:00', 40),\n",
    "(4, 4, 1, 1, '2016-11-15 10:00', '2016-11-15 12:00', 40),\n",
    "(5, 4, 1, 1, '2016-11-15 10:00', '2016-11-15 12:00', 40),\n",
    "(6, 4, 1, 1, '2016-11-15 10:00', '2016-11-15 13:00', 40),\n",
    "(7, 7, 2, 1, '2016-12-15 10:00', '2016-12-15 12:00', 40),\n",
    "(3, 7, 2, 1, '2016-11-15 10:00', '2016-11-15 12:00', 40),\n",
    "(3, 7, 2, 1,'2016-12-15 10:00', '2016-12-15 12:00', 35),\n",
    "(2, 7, 2, 1, '2016-12-15 10:00', '2016-12-15 12:00', 120)"
   ]
  },
  {
   "cell_type": "code",
   "execution_count": 47,
   "metadata": {
    "collapsed": false
   },
   "outputs": [
    {
     "data": {
      "text/plain": [
       "{u'status': u'OK'}"
      ]
     },
     "execution_count": 47,
     "metadata": {},
     "output_type": "execute_result"
    }
   ],
   "source": [
    "%%sql\n",
    "\n",
    "CREATE TABLE rate(\n",
    "    rid int,\n",
    "    usr int NOT NULL,\n",
    "    activity_category int NOT NULL,\n",
    "    activity_subcategory int NOT NULL,\n",
    "    pid int,\n",
    "    comment text,\n",
    "    score int NOT NULL,\n",
    "    primary key (rid),\n",
    "    foreign key (usr) references users(uid),\n",
    "    foreign key (pid, activity_category, activity_subcategory) references location(pid, aid, aaid)\n",
    ")"
   ]
  },
  {
   "cell_type": "markdown",
   "metadata": {},
   "source": [
    "INSERT INTO rate (rid, usr, activity_category,activity_subcategory,  pid, comment, score)\n",
    "VALUES\n",
    "(1, 1,4,1,1, 'best Monet is there!', 4),\n",
    "(2, 3, 4,1,1, 'a bit boring; not much good food to eat', 3),\n",
    "(3, 2, 4,1,1, 'best antiques in the world! A must see in New York!', 5),\n",
    "(4, 4 ,4, 2,1, 'too much stuff to see within a day!', 4),\n",
    "(5, 7 ,7, 2,1, 'beautiful see!', 4),\n",
    "(6, 6 ,7, 2,1, 'do not like the service around there', 2),\n",
    "(7, 8 ,7, 2,1, 'okay place', 3),\n",
    "(8, 9 ,7, 2,1, 'love it, great view!', 5),\n",
    "(9, 2 ,7, 2,1, 'nice boat', 4),\n",
    "(10, 3 ,7, 2,1, 'nice food', 4)"
   ]
  },
  {
   "cell_type": "code",
   "execution_count": 49,
   "metadata": {
    "collapsed": false
   },
   "outputs": [
    {
     "data": {
      "text/plain": [
       "{u'status': u'OK'}"
      ]
     },
     "execution_count": 49,
     "metadata": {},
     "output_type": "execute_result"
    }
   ],
   "source": [
    "%%sql\n",
    "\n",
    "CREATE TABLE location(\n",
    "    pid int, --\"think of pid as Arizona State Park\"\n",
    "    aid int, --\"climbing\"\n",
    "    aaid int, --\"rock climbing\"\n",
    "    open_time timestamp,\n",
    "    close_time timestamp,\n",
    "    state text,\n",
    "    city text,\n",
    "    name text,\n",
    "    primary key(pid, aid, aaid),\n",
    "    foreign key(aid, aaid) references activity(aid, aaid)\n",
    "    --\"pid, aid, aaid uniquely identifies an activity\"\n",
    ")"
   ]
  },
  {
   "cell_type": "markdown",
   "metadata": {},
   "source": [
    "INSERT INTO location (pid, aid, aaid, open_time, close_time, state, city, name)\n",
    "VALUES \n",
    "(1, 4, 1, '10:00', '17:00', 'New York', 'New York', 'Museum of Modern Arts'),\n",
    "(2, 4, 1, '9:00', '18:00', 'Boston', 'massachusetts', 'The Institute of Temporary Art'),\n",
    "(1, 4, 2, '9:00', '18:00', 'New York', 'New York', 'Metropolitan Museum'),\n",
    "(2, 4, 2, '9:00', '18:00', 'Boston', 'massachusetts', 'Boston Museum of Fine Arts'),\n",
    "(1, 4, 3,'10:00', '17:00', 'New York', 'New York', 'Natural History Museum' ),\n",
    "(1, 7, 2,'10:00', '17:00', 'New York', 'Brooklyn', 'Captain Dave' ),\n",
    "(2, 7, 2,'10:00', '17:00', 'Galveston', 'Texas', 'Galveston Bay' ),\n",
    "(3, 7, 2,'10:00', '17:00', 'San Diego', 'California', 'California coast' ),\n",
    "(4, 7, 2,'10:00', '17:00', 'Montauk', 'New York', ' Long Island Sound' ),\n",
    "(5, 7, 2,'10:00', '17:00', 'MIAMI', 'Florida', 'Atlantic Coast' )\n"
   ]
  },
  {
   "cell_type": "code",
   "execution_count": 50,
   "metadata": {
    "collapsed": false
   },
   "outputs": [
    {
     "data": {
      "text/plain": [
       "{u'status': u'OK'}"
      ]
     },
     "execution_count": 50,
     "metadata": {},
     "output_type": "execute_result"
    }
   ],
   "source": [
    "%%sql\n",
    "\n",
    "CREATE TABLE ticketrequired(\n",
    "    tid int,\n",
    "    pid int,\n",
    "    aid int,\n",
    "    aaid int, \n",
    "    price numeric CHECK (price >= 0),\n",
    "    name text,\n",
    "    primary key (tid),\n",
    "    foreign key(pid, aid, aaid) references location(pid, aid, aaid) ON DELETE CASCADE\n",
    ")"
   ]
  },
  {
   "cell_type": "markdown",
   "metadata": {},
   "source": [
    "INSERT INTO ticketrequired (tid, pid, aid, aaid, price, name)\n",
    "VALUES\n",
    "(1, 1 , 7, 2, 20, 'service fee'),\n",
    "(2, 2, 7, 2, 30, 'service fee'),\n",
    "(3, 3, 7, 2, 35, 'service fee'),\n",
    "(4, 1, 4 ,1 ,20 , 'museum ticket'),\n",
    "(5, 1, 4, 1, 30, 'special collection included'),\n",
    "(6, 1, 4, 2, 10, 'general admission'),\n",
    "(7, 2, 4, 2, 14, 'general admission'),\n",
    "(8, 3 ,7,2, 100, 'boat renting and coaching fee'),\n",
    "(9, 4, 7, 2, 80, 'coach fee'),\n",
    "(10, 5, 7,2, 30, 'service fee');"
   ]
  },
  {
   "cell_type": "code",
   "execution_count": 52,
   "metadata": {
    "collapsed": false
   },
   "outputs": [
    {
     "data": {
      "text/plain": [
       "{u'status': u'OK'}"
      ]
     },
     "execution_count": 52,
     "metadata": {},
     "output_type": "execute_result"
    }
   ],
   "source": [
    "%%sql \n",
    "\n",
    "CREATE TABLE modeoftransport (\n",
    "    route_number int,\n",
    "    pid int,\n",
    "    aid int,\n",
    "    aaid int,\n",
    "    name text,\n",
    "    primary key(route_number, pid, aid, aaid),\n",
    "    foreign key(pid, aid, aaid) references location(pid, aid, aaid)\n",
    ")"
   ]
  },
  {
   "cell_type": "markdown",
   "metadata": {},
   "source": [
    "INSERT INTO modeoftransport (route_number, pid, aid, aaid, name)\n",
    "VALUES \n",
    "(1, 1, 4, 2, 'walking')\n",
    "(2, 1, 4, 2, 'subway'),\n",
    "(3, 1, 4, 3, 'bike'),\n",
    "(4, 1, 4, 1, 'bus'),\n",
    "(5, 1, 4, 1, 'taxi'),\n",
    "(1, 2, 4, 1, 'walking'),\n",
    "(6, 1, 7, 2, 'car'),\n",
    "(7, 1, 7, 2, 'train'),\n",
    "(1, 1, 7, 2, 'walk')"
   ]
  },
  {
   "cell_type": "code",
   "execution_count": 54,
   "metadata": {
    "collapsed": false
   },
   "outputs": [
    {
     "data": {
      "text/plain": [
       "{u'status': u'OK'}"
      ]
     },
     "execution_count": 54,
     "metadata": {},
     "output_type": "execute_result"
    }
   ],
   "source": [
    "%%sql \n",
    "\n",
    "CREATE TABLE ratefunroute(\n",
    "    rid int,\n",
    "    uid int,\n",
    "    pid int, \n",
    "    aid int,\n",
    "    aaid int,\n",
    "    route_number int,\n",
    "    score int,\n",
    "    primary key(rid),\n",
    "    foreign key(uid) references users(uid),\n",
    "    foreign key (route_number, pid, aid, aaid) references modeoftransport(route_number, pid, aid, aaid)\n",
    ")"
   ]
  },
  {
   "cell_type": "markdown",
   "metadata": {},
   "source": [
    "INSERT INTO ratefunroute (rid, uid, pid, aid, aaid, route_number, score)\n",
    "VALUES\n",
    "(1, 1, 1, 4,1, 1, 1),\n",
    "(2, 4, 1, 4, 1, 1, 1),\n",
    "(3, 1, 1, 4, 1, 1, 1),\n",
    "(4, 1, 1, 4, 1, 4, 1),\n",
    "(5, 2, 1,7,2,6,1),\n",
    "(6,3,1,7,2,6,1),\n",
    "(7,5,1,7,2,6,1),\n",
    "(8,6,1,7,2,7,1),\n",
    "(9, 2,1,4,1,1,1),\n",
    "(10, 3,1,7,2,6,1)"
   ]
  },
  {
   "cell_type": "code",
   "execution_count": 55,
   "metadata": {
    "collapsed": false
   },
   "outputs": [
    {
     "data": {
      "text/plain": [
       "{u'status': u'OK'}"
      ]
     },
     "execution_count": 55,
     "metadata": {},
     "output_type": "execute_result"
    }
   ],
   "source": [
    "%%sql\n",
    "\n",
    "CREATE TABLE orderhistory(\n",
    "    oid int,\n",
    "    uid int,\n",
    "    tid int,\n",
    "    time timestamp, \n",
    "    primary key (oid),\n",
    "    foreign key (uid) references users(uid),\n",
    "    foreign key(tid) references ticketrequired(tid)\n",
    "    \n",
    ")"
   ]
  },
  {
   "cell_type": "markdown",
   "metadata": {},
   "source": [
    "INSERT INTO orderhistory (oid, uid, tid, time)\n",
    "VALUES\n",
    "(1, 1 , 1, '2015-11-15 10:00'),\n",
    "(2,1 , 1, '2015-11-16 10:00'),\n",
    "(3,1 , 1, '2015-11-17 10:00'),\n",
    "(4,1 , 1, '2015-11-18 10:00'),\n",
    "(5,1 , 1, '2015-11-19 10:00'),\n",
    "(6,1 , 1, '2015-11-20 10:00'),\n",
    "(7,1 , 1, '2015-11-21 10:00'),\n",
    "(8,1 , 1, '2015-12-15 10:00'),\n",
    "(9,1 , 1, '2015-12-16 10:00'),\n",
    "(10,1 , 1, '2015-12-30 10:00');"
   ]
  },
  {
   "cell_type": "code",
   "execution_count": 72,
   "metadata": {
    "collapsed": false
   },
   "outputs": [
    {
     "data": {
      "text/plain": [
       "{u'status': u'OK'}"
      ]
     },
     "execution_count": 72,
     "metadata": {},
     "output_type": "execute_result"
    }
   ],
   "source": [
    "%%sql \n",
    "CREATE TABLE gearstocarry(\n",
    "    gid int,\n",
    "    aid int,\n",
    "    primary key(gid, aid),\n",
    "    foreign key (aid) references activitycategory(aid)\n",
    ")"
   ]
  },
  {
   "cell_type": "markdown",
   "metadata": {},
   "source": [
    "INSERT INTO gearstocarry (gid, aid)\n",
    "VALUES\n",
    "(1, 7),\n",
    "(2, 7),\n",
    "(3, 7),\n",
    "(4, 7),\n",
    "(1, 8),\n",
    "(5, 7),\n",
    "(5, 9),\n",
    "(6, 3),\n",
    "(5,4);"
   ]
  },
  {
   "cell_type": "code",
   "execution_count": null,
   "metadata": {
    "collapsed": true
   },
   "outputs": [],
   "source": [
    "%%sql \n",
    "CREATE TABLE gears(\n",
    "    gid int,\n",
    "    name text,\n",
    "    primary key(gid)\n",
    ")"
   ]
  },
  {
   "cell_type": "markdown",
   "metadata": {},
   "source": [
    "INSERT INTO gears(gid, name)\n",
    "VALUES\n",
    "(1, 'gloves'),\n",
    "(2, 'fishing pole'),\n",
    "(3, 'sun glasses'),\n",
    "(4, 'fish bait'),\n",
    "(5, 'backpack'),\n",
    "(6, 'camera'),\n",
    "(7, 'hat'),\n",
    "(8, 'selfie-stick'),\n",
    "(9, 'hiking boots'),\n",
    "(10, 'rain boots');"
   ]
  },
  {
   "cell_type": "code",
   "execution_count": null,
   "metadata": {
    "collapsed": true
   },
   "outputs": [],
   "source": [
    "%%sql \n",
    "\n",
    "CREATE TABLE shops (\n",
    "    sid int,\n",
    "    name text NOT NULL,\n",
    "    city text NOT NULL,\n",
    "    primary key(sid)\n",
    ")"
   ]
  },
  {
   "cell_type": "markdown",
   "metadata": {},
   "source": [
    "INSERT INTO shops (sid,  name, city)\n",
    "VALUES\n",
    "(1, 'Uncle Bob Wholesale', 'New York'),\n",
    "(2,  'Sports Lover', 'New York'),\n",
    "(3, 'Hard-ware', 'Boston'),\n",
    "(4, 'New Tech', 'New York'),\n",
    "(5, 'Camera Ready', 'New York'),\n",
    "(6, 'Miami Conviniance', 'Miami'),\n",
    "(7, 'Virginia Conviniance', 'Virgina'),\n",
    "(8, 'Boston Conviniance', 'Boston'),\n",
    "(9, 'Big Apple Fashion Wear', 'New York'),\n",
    "(10, 'Sea Dream', 'San Diego');"
   ]
  },
  {
   "cell_type": "code",
   "execution_count": 66,
   "metadata": {
    "collapsed": false
   },
   "outputs": [
    {
     "data": {
      "text/plain": [
       "{u'status': u'OK'}"
      ]
     },
     "execution_count": 66,
     "metadata": {},
     "output_type": "execute_result"
    }
   ],
   "source": [
    "%%sql \n",
    "\n",
    "CREATE TABLE travelitemshop (\n",
    "    sid int,\n",
    "    gear int,\n",
    "    price numeric CHECK(price >=0),\n",
    "    primary key(sid, gear),\n",
    "    foreign key (sid) references shops(sid),\n",
    "    foreign key (gear) references gears(gid)\n",
    ")"
   ]
  },
  {
   "cell_type": "markdown",
   "metadata": {},
   "source": [
    "INSERT INTO travelitemshop (sid, gear, price)\n",
    "VALUES\n",
    "(1, 1,  8.8),\n",
    "(1, 2,  82.5),\n",
    "(1, 4,  5),\n",
    "(2, 3,  57.8),\n",
    "(2, 5, 68),\n",
    "(2, 8,  15),\n",
    "(3, 6,  100),\n",
    "(4, 6,  80),\n",
    "(5, 6,  250),\n",
    "(6, 10,  57.5);"
   ]
  }
 ],
 "metadata": {
  "anaconda-cloud": {},
  "kernelspec": {
   "display_name": "Python 3",
   "language": "python",
   "name": "python3"
  },
  "language_info": {
   "codemirror_mode": {
    "name": "ipython",
    "version": 3
   },
   "file_extension": ".py",
   "mimetype": "text/x-python",
   "name": "python",
   "nbconvert_exporter": "python",
   "pygments_lexer": "ipython3",
   "version": "3.5.2"
  }
 },
 "nbformat": 4,
 "nbformat_minor": 1
}
