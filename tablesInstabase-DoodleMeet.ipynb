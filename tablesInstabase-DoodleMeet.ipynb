{
 "cells": [
  {
   "cell_type": "code",
   "execution_count": 2,
   "metadata": {
    "collapsed": true
   },
   "outputs": [],
   "source": [
    "__author__=\"Emily Hua yh2901\"\n",
    "__author__=\"Dhruv Shekhawa ds3512\""
   ]
  },
  {
   "cell_type": "code",
   "execution_count": 1,
   "metadata": {
    "collapsed": false
   },
   "outputs": [
    {
     "name": "stdout",
     "output_type": "stream",
     "text": [
      "ERROR: No database connected. Please connect to a database.\n",
      "HELP: ib.connect_db('ib://<username>/<reponame>/databases/<dbname>'), or\n",
      "      ib.connect_db('<sqlalchemy-url>')\n"
     ]
    }
   ],
   "source": [
    "ib.connect_db('ib://<username>/<reponame>/databases/<dbname>')"
   ]
  },
  {
   "cell_type": "code",
   "execution_count": 39,
   "metadata": {
    "collapsed": false
   },
   "outputs": [
    {
     "name": "stdout",
     "output_type": "stream",
     "text": [
      "Error: ERROR: relation \"users\" already exists\n"
     ]
    }
   ],
   "source": [
    "%%sql\n",
    "\n",
    "CREATE TABLE users(\n",
    "    uid int primary key,\n",
    "    name text,\n",
    "    fund int,\n",
    "    gender text,\n",
    "    age int\n",
    ");"
   ]
  },
  {
   "cell_type": "code",
   "execution_count": 40,
   "metadata": {
    "collapsed": false
   },
   "outputs": [
    {
     "data": {
      "text/plain": [
       "{u'status': u'OK'}"
      ]
     },
     "execution_count": 40,
     "metadata": {},
     "output_type": "execute_result"
    }
   ],
   "source": [
    "%%sql\n",
    "\n",
    "CREATE TABLE friendship(\n",
    "    fid int primary key,\n",
    "    usr int,\n",
    "    friend int,\n",
    "    foreign key (usr) references users(uid),\n",
    "    foreign key (friend) references users(uid)\n",
    ")"
   ]
  },
  {
   "cell_type": "code",
   "execution_count": 60,
   "metadata": {
    "collapsed": false
   },
   "outputs": [
    {
     "data": {
      "text/plain": [
       "{u'status': u'OK'}"
      ]
     },
     "execution_count": 60,
     "metadata": {},
     "output_type": "execute_result"
    }
   ],
   "source": [
    "%%sql \n",
    "\n",
    "CREATE TABLE activitycategory(\n",
    "    aid int,\n",
    "    name text,\n",
    "    primary key(aid)\n",
    ")"
   ]
  },
  {
   "cell_type": "code",
   "execution_count": 65,
   "metadata": {
    "collapsed": false
   },
   "outputs": [
    {
     "name": "stdout",
     "output_type": "stream",
     "text": [
      "Error: ERROR: relation \"activity\" already exists\n"
     ]
    }
   ],
   "source": [
    "%%sql \n",
    "\n",
    "CREATE TABLE activity(\n",
    "    aid int,\n",
    "    aaid int,\n",
    "    name text,\n",
    "    primary key(aid, aaid),\n",
    "    foreign key(aid) references activitycategory(aid)\n",
    ")"
   ]
  },
  {
   "cell_type": "markdown",
   "metadata": {},
   "source": [
    "aaid stores acitivity subcategory "
   ]
  },
  {
   "cell_type": "code",
   "execution_count": 46,
   "metadata": {
    "collapsed": false
   },
   "outputs": [
    {
     "data": {
      "text/plain": [
       "{u'status': u'OK'}"
      ]
     },
     "execution_count": 46,
     "metadata": {},
     "output_type": "execute_result"
    }
   ],
   "source": [
    "%%sql\n",
    "\n",
    "CREATE TABLE interest(\n",
    "    usr int,\n",
    "    activity_category int,\n",
    "    activity_subcategory int, \n",
    "    start_time timestamp,\n",
    "    end_time timestamp,\n",
    "    budget int,\n",
    "    primary key (usr, activity_category, activity_subcategory),\n",
    "    foreign key (usr) references users(uid),\n",
    "    foreign key(activity_category, activity_subcategory) references activity(aid, aaid)\n",
    ")"
   ]
  },
  {
   "cell_type": "code",
   "execution_count": 47,
   "metadata": {
    "collapsed": false
   },
   "outputs": [
    {
     "data": {
      "text/plain": [
       "{u'status': u'OK'}"
      ]
     },
     "execution_count": 47,
     "metadata": {},
     "output_type": "execute_result"
    }
   ],
   "source": [
    "%%sql\n",
    "\n",
    "CREATE TABLE rate(\n",
    "    rid int,\n",
    "    usr int,\n",
    "    activity_category int,\n",
    "    activity_subcategory int, \n",
    "    comment text,\n",
    "    score int,\n",
    "    primary key (rid),\n",
    "    foreign key (usr) references users(uid),\n",
    "    foreign key(activity_category, activity_subcategory) references activity(aid, aaid)\n",
    ")"
   ]
  },
  {
   "cell_type": "code",
   "execution_count": 49,
   "metadata": {
    "collapsed": false
   },
   "outputs": [
    {
     "data": {
      "text/plain": [
       "{u'status': u'OK'}"
      ]
     },
     "execution_count": 49,
     "metadata": {},
     "output_type": "execute_result"
    }
   ],
   "source": [
    "%%sql\n",
    "\n",
    "CREATE TABLE location(\n",
    "    pid int,\n",
    "    activity_category int,\n",
    "    activity_subcategory int, \n",
    "    open_time timestamp,\n",
    "    close_time timestamp,\n",
    "    state text,\n",
    "    city text,\n",
    "    name text,\n",
    "    primary key(pid, aid, aaid),\n",
    "    foreign key(activity_category, activity_subcategory) references activity(aid, aaid)\n",
    "\n",
    ")"
   ]
  },
  {
   "cell_type": "code",
   "execution_count": 50,
   "metadata": {
    "collapsed": false
   },
   "outputs": [
    {
     "data": {
      "text/plain": [
       "{u'status': u'OK'}"
      ]
     },
     "execution_count": 50,
     "metadata": {},
     "output_type": "execute_result"
    }
   ],
   "source": [
    "%%sql\n",
    "\n",
    "CREATE TABLE ticketrequired(\n",
    "    pid int,\n",
    "    price int,\n",
    "    name text,\n",
    "    primary key (pid),\n",
    "    foreign key(pid) references location(pid) ON DELETE CASCADE\n",
    ")"
   ]
  },
  {
   "cell_type": "code",
   "execution_count": 52,
   "metadata": {
    "collapsed": false
   },
   "outputs": [
    {
     "data": {
      "text/plain": [
       "{u'status': u'OK'}"
      ]
     },
     "execution_count": 52,
     "metadata": {},
     "output_type": "execute_result"
    }
   ],
   "source": [
    "%%sql \n",
    "\n",
    "CREATE TABLE modeoftransport (\n",
    "    route_number int,\n",
    "    pid int,\n",
    "    name text,\n",
    "    primary key(route_number, pid),\n",
    "    foreign key(pid) references location(pid)\n",
    ")"
   ]
  },
  {
   "cell_type": "code",
   "execution_count": 54,
   "metadata": {
    "collapsed": false
   },
   "outputs": [
    {
     "data": {
      "text/plain": [
       "{u'status': u'OK'}"
      ]
     },
     "execution_count": 54,
     "metadata": {},
     "output_type": "execute_result"
    }
   ],
   "source": [
    "%%sql \n",
    "\n",
    "CREATE TABLE ratefunroute(\n",
    "    rid int,\n",
    "    uid int,\n",
    "    pid int, \n",
    "    route_number int,\n",
    "    score int,\n",
    "    primary key(rid),\n",
    "    foreign key(uid) references users(uid),\n",
    "    foreign key (route_number, pid) references modeoftransport(route_number, pid)\n",
    ")"
   ]
  },
  {
   "cell_type": "code",
   "execution_count": 55,
   "metadata": {
    "collapsed": false
   },
   "outputs": [
    {
     "data": {
      "text/plain": [
       "{u'status': u'OK'}"
      ]
     },
     "execution_count": 55,
     "metadata": {},
     "output_type": "execute_result"
    }
   ],
   "source": [
    "%%sql\n",
    "\n",
    "CREATE TABLE orderhistory(\n",
    "    oid int,\n",
    "    uid int,\n",
    "    tid int,\n",
    "    time timestamp, \n",
    "    primary key (oid),\n",
    "    foreign key (uid) references users(uid),\n",
    "    foreign key(tid) references ticket(tid)\n",
    "    \n",
    ")"
   ]
  },
  {
   "cell_type": "code",
   "execution_count": 72,
   "metadata": {
    "collapsed": false
   },
   "outputs": [
    {
     "data": {
      "text/plain": [
       "{u'status': u'OK'}"
      ]
     },
     "execution_count": 72,
     "metadata": {},
     "output_type": "execute_result"
    }
   ],
   "source": [
    "%%sql \n",
    "CREATE TABLE gearstocarry(\n",
    "    iid int,\n",
    "    aid int,\n",
    "    name text,\n",
    "    primary key(iid, aid),\n",
    "    foreign key (aid) references activitycategory(aid)\n",
    ")"
   ]
  },
  {
   "cell_type": "code",
   "execution_count": 66,
   "metadata": {
    "collapsed": false
   },
   "outputs": [
    {
     "data": {
      "text/plain": [
       "{u'status': u'OK'}"
      ]
     },
     "execution_count": 66,
     "metadata": {},
     "output_type": "execute_result"
    }
   ],
   "source": [
    "%%sql \n",
    "\n",
    "CREATE TABLE travelitemshop (\n",
    "    sid int,\n",
    "    item_to_carry int,\n",
    "    name text,\n",
    "    city text,\n",
    "    primary key(sid),\n",
    "    foreign key (item_to_carry) references gearstocarry(iid)\n",
    ")"
   ]
  }
 ],
 "metadata": {
  "anaconda-cloud": {},
  "kernelspec": {
   "display_name": "Python 3",
   "language": "python",
   "name": "python3"
  },
  "language_info": {
   "codemirror_mode": {
    "name": "ipython",
    "version": 3
   },
   "file_extension": ".py",
   "mimetype": "text/x-python",
   "name": "python",
   "nbconvert_exporter": "python",
   "pygments_lexer": "ipython3",
   "version": "3.5.1"
  }
 },
 "nbformat": 4,
 "nbformat_minor": 1
}
